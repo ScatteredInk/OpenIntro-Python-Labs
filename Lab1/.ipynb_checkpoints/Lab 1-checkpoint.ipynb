{
 "metadata": {
  "name": "",
  "signature": "sha256:287bf897f43091a674cfef1a83f834a0d28006bae78bf3f81d023f00511dd211"
 },
 "nbformat": 3,
 "nbformat_minor": 0,
 "worksheets": [
  {
   "cells": [
    {
     "cell_type": "markdown",
     "metadata": {},
     "source": [
      "# Lab 1 - Introduction to data"
     ]
    },
    {
     "cell_type": "code",
     "collapsed": false,
     "input": [
      "import pandas as pd"
     ],
     "language": "python",
     "metadata": {},
     "outputs": [],
     "prompt_number": 1
    },
    {
     "cell_type": "code",
     "collapsed": false,
     "input": [
      "cdc_url = \"https://github.com/ScatteredInk/OpenIntro-Python-Labs/raw/7acac2352f01d455f191ebd68cb66e302eaa7f53/Lab%201/cdc.csv\"\n",
      "cdc = pd.read_csv(cdc_url)"
     ],
     "language": "python",
     "metadata": {},
     "outputs": [],
     "prompt_number": 3
    },
    {
     "cell_type": "code",
     "collapsed": false,
     "input": [
      "cdc.columns.values"
     ],
     "language": "python",
     "metadata": {},
     "outputs": [
      {
       "metadata": {},
       "output_type": "pyout",
       "prompt_number": 6,
       "text": [
        "array(['genhlth', 'exerany', 'hlthplan', 'smoke100', 'height', 'weight',\n",
        "       'wtdesire', 'age', 'gender'], dtype=object)"
       ]
      }
     ],
     "prompt_number": 6
    },
    {
     "cell_type": "code",
     "collapsed": false,
     "input": [
      "cdc.head()"
     ],
     "language": "python",
     "metadata": {},
     "outputs": [
      {
       "html": [
        "<div style=\"max-height:1000px;max-width:1500px;overflow:auto;\">\n",
        "<table border=\"1\" class=\"dataframe\">\n",
        "  <thead>\n",
        "    <tr style=\"text-align: right;\">\n",
        "      <th></th>\n",
        "      <th>genhlth</th>\n",
        "      <th>exerany</th>\n",
        "      <th>hlthplan</th>\n",
        "      <th>smoke100</th>\n",
        "      <th>height</th>\n",
        "      <th>weight</th>\n",
        "      <th>wtdesire</th>\n",
        "      <th>age</th>\n",
        "      <th>gender</th>\n",
        "    </tr>\n",
        "  </thead>\n",
        "  <tbody>\n",
        "    <tr>\n",
        "      <th>0</th>\n",
        "      <td>      good</td>\n",
        "      <td> 0</td>\n",
        "      <td> 1</td>\n",
        "      <td> 0</td>\n",
        "      <td> 70</td>\n",
        "      <td> 175</td>\n",
        "      <td> 175</td>\n",
        "      <td> 77</td>\n",
        "      <td> m</td>\n",
        "    </tr>\n",
        "    <tr>\n",
        "      <th>1</th>\n",
        "      <td>      good</td>\n",
        "      <td> 0</td>\n",
        "      <td> 1</td>\n",
        "      <td> 1</td>\n",
        "      <td> 64</td>\n",
        "      <td> 125</td>\n",
        "      <td> 115</td>\n",
        "      <td> 33</td>\n",
        "      <td> f</td>\n",
        "    </tr>\n",
        "    <tr>\n",
        "      <th>2</th>\n",
        "      <td>      good</td>\n",
        "      <td> 1</td>\n",
        "      <td> 1</td>\n",
        "      <td> 1</td>\n",
        "      <td> 60</td>\n",
        "      <td> 105</td>\n",
        "      <td> 105</td>\n",
        "      <td> 49</td>\n",
        "      <td> f</td>\n",
        "    </tr>\n",
        "    <tr>\n",
        "      <th>3</th>\n",
        "      <td>      good</td>\n",
        "      <td> 1</td>\n",
        "      <td> 1</td>\n",
        "      <td> 0</td>\n",
        "      <td> 66</td>\n",
        "      <td> 132</td>\n",
        "      <td> 124</td>\n",
        "      <td> 42</td>\n",
        "      <td> f</td>\n",
        "    </tr>\n",
        "    <tr>\n",
        "      <th>4</th>\n",
        "      <td> very good</td>\n",
        "      <td> 0</td>\n",
        "      <td> 1</td>\n",
        "      <td> 0</td>\n",
        "      <td> 61</td>\n",
        "      <td> 150</td>\n",
        "      <td> 130</td>\n",
        "      <td> 55</td>\n",
        "      <td> f</td>\n",
        "    </tr>\n",
        "  </tbody>\n",
        "</table>\n",
        "</div>"
       ],
       "metadata": {},
       "output_type": "pyout",
       "prompt_number": 8,
       "text": [
        "     genhlth  exerany  hlthplan  smoke100  height  weight  wtdesire  age  \\\n",
        "0       good        0         1         0      70     175       175   77   \n",
        "1       good        0         1         1      64     125       115   33   \n",
        "2       good        1         1         1      60     105       105   49   \n",
        "3       good        1         1         0      66     132       124   42   \n",
        "4  very good        0         1         0      61     150       130   55   \n",
        "\n",
        "  gender  \n",
        "0      m  \n",
        "1      f  \n",
        "2      f  \n",
        "3      f  \n",
        "4      f  "
       ]
      }
     ],
     "prompt_number": 8
    },
    {
     "cell_type": "code",
     "collapsed": false,
     "input": [
      "cdc.dtypes"
     ],
     "language": "python",
     "metadata": {},
     "outputs": [
      {
       "metadata": {},
       "output_type": "pyout",
       "prompt_number": 14,
       "text": [
        "genhlth     category\n",
        "exerany        int64\n",
        "hlthplan       int64\n",
        "smoke100       int64\n",
        "height         int64\n",
        "weight         int64\n",
        "wtdesire       int64\n",
        "age            int64\n",
        "gender      category\n",
        "dtype: object"
       ]
      }
     ],
     "prompt_number": 14
    },
    {
     "cell_type": "code",
     "collapsed": false,
     "input": [
      "cdc['genhlth'] = cdc['genhlth'].astype('category')\n",
      "cdc['gender'] = cdc['gender'].astype('category')"
     ],
     "language": "python",
     "metadata": {},
     "outputs": [],
     "prompt_number": 12
    },
    {
     "cell_type": "code",
     "collapsed": false,
     "input": [
      "cdc.describe()"
     ],
     "language": "python",
     "metadata": {},
     "outputs": [
      {
       "html": [
        "<div style=\"max-height:1000px;max-width:1500px;overflow:auto;\">\n",
        "<table border=\"1\" class=\"dataframe\">\n",
        "  <thead>\n",
        "    <tr style=\"text-align: right;\">\n",
        "      <th></th>\n",
        "      <th>exerany</th>\n",
        "      <th>hlthplan</th>\n",
        "      <th>smoke100</th>\n",
        "      <th>height</th>\n",
        "      <th>weight</th>\n",
        "      <th>wtdesire</th>\n",
        "      <th>age</th>\n",
        "    </tr>\n",
        "  </thead>\n",
        "  <tbody>\n",
        "    <tr>\n",
        "      <th>count</th>\n",
        "      <td> 20000.000000</td>\n",
        "      <td> 20000.000000</td>\n",
        "      <td> 20000.000000</td>\n",
        "      <td> 20000.000000</td>\n",
        "      <td> 20000.00000</td>\n",
        "      <td> 20000.000000</td>\n",
        "      <td> 20000.000000</td>\n",
        "    </tr>\n",
        "    <tr>\n",
        "      <th>mean</th>\n",
        "      <td>     0.745700</td>\n",
        "      <td>     0.873800</td>\n",
        "      <td>     0.472050</td>\n",
        "      <td>    67.182900</td>\n",
        "      <td>   169.68295</td>\n",
        "      <td>   155.093850</td>\n",
        "      <td>    45.068250</td>\n",
        "    </tr>\n",
        "    <tr>\n",
        "      <th>std</th>\n",
        "      <td>     0.435478</td>\n",
        "      <td>     0.332083</td>\n",
        "      <td>     0.499231</td>\n",
        "      <td>     4.125954</td>\n",
        "      <td>    40.08097</td>\n",
        "      <td>    32.013306</td>\n",
        "      <td>    17.192689</td>\n",
        "    </tr>\n",
        "    <tr>\n",
        "      <th>min</th>\n",
        "      <td>     0.000000</td>\n",
        "      <td>     0.000000</td>\n",
        "      <td>     0.000000</td>\n",
        "      <td>    48.000000</td>\n",
        "      <td>    68.00000</td>\n",
        "      <td>    68.000000</td>\n",
        "      <td>    18.000000</td>\n",
        "    </tr>\n",
        "    <tr>\n",
        "      <th>25%</th>\n",
        "      <td>     0.000000</td>\n",
        "      <td>     1.000000</td>\n",
        "      <td>     0.000000</td>\n",
        "      <td>    64.000000</td>\n",
        "      <td>   140.00000</td>\n",
        "      <td>   130.000000</td>\n",
        "      <td>    31.000000</td>\n",
        "    </tr>\n",
        "    <tr>\n",
        "      <th>50%</th>\n",
        "      <td>     1.000000</td>\n",
        "      <td>     1.000000</td>\n",
        "      <td>     0.000000</td>\n",
        "      <td>    67.000000</td>\n",
        "      <td>   165.00000</td>\n",
        "      <td>   150.000000</td>\n",
        "      <td>    43.000000</td>\n",
        "    </tr>\n",
        "    <tr>\n",
        "      <th>75%</th>\n",
        "      <td>     1.000000</td>\n",
        "      <td>     1.000000</td>\n",
        "      <td>     1.000000</td>\n",
        "      <td>    70.000000</td>\n",
        "      <td>   190.00000</td>\n",
        "      <td>   175.000000</td>\n",
        "      <td>    57.000000</td>\n",
        "    </tr>\n",
        "    <tr>\n",
        "      <th>max</th>\n",
        "      <td>     1.000000</td>\n",
        "      <td>     1.000000</td>\n",
        "      <td>     1.000000</td>\n",
        "      <td>    93.000000</td>\n",
        "      <td>   500.00000</td>\n",
        "      <td>   680.000000</td>\n",
        "      <td>    99.000000</td>\n",
        "    </tr>\n",
        "  </tbody>\n",
        "</table>\n",
        "</div>"
       ],
       "metadata": {},
       "output_type": "pyout",
       "prompt_number": 13,
       "text": [
        "            exerany      hlthplan      smoke100        height       weight  \\\n",
        "count  20000.000000  20000.000000  20000.000000  20000.000000  20000.00000   \n",
        "mean       0.745700      0.873800      0.472050     67.182900    169.68295   \n",
        "std        0.435478      0.332083      0.499231      4.125954     40.08097   \n",
        "min        0.000000      0.000000      0.000000     48.000000     68.00000   \n",
        "25%        0.000000      1.000000      0.000000     64.000000    140.00000   \n",
        "50%        1.000000      1.000000      0.000000     67.000000    165.00000   \n",
        "75%        1.000000      1.000000      1.000000     70.000000    190.00000   \n",
        "max        1.000000      1.000000      1.000000     93.000000    500.00000   \n",
        "\n",
        "           wtdesire           age  \n",
        "count  20000.000000  20000.000000  \n",
        "mean     155.093850     45.068250  \n",
        "std       32.013306     17.192689  \n",
        "min       68.000000     18.000000  \n",
        "25%      130.000000     31.000000  \n",
        "50%      150.000000     43.000000  \n",
        "75%      175.000000     57.000000  \n",
        "max      680.000000     99.000000  "
       ]
      }
     ],
     "prompt_number": 13
    },
    {
     "cell_type": "markdown",
     "metadata": {},
     "source": [
      "## Table equivalent"
     ]
    },
    {
     "cell_type": "code",
     "collapsed": false,
     "input": [
      "cdc['genhlth'].value_counts()"
     ],
     "language": "python",
     "metadata": {},
     "outputs": [
      {
       "metadata": {},
       "output_type": "pyout",
       "prompt_number": 26,
       "text": [
        "very good    6972\n",
        "good         5675\n",
        "excellent    4657\n",
        "fair         2019\n",
        "poor          677\n",
        "dtype: int64"
       ]
      }
     ],
     "prompt_number": 26
    },
    {
     "cell_type": "code",
     "collapsed": false,
     "input": [],
     "language": "python",
     "metadata": {},
     "outputs": []
    }
   ],
   "metadata": {}
  }
 ]
}