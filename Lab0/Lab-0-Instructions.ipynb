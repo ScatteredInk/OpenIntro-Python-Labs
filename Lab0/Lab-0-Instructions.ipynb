{
 "cells": [
  {
   "cell_type": "markdown",
   "metadata": {},
   "source": [
    "<div class=question>\n",
    "<h1>OpenIntro Statistics in Python</h1>\n",
    "<h2>Lab 0: Introduction to Pandas and IPython</h2>\n",
    "</div>"
   ]
  },
  {
   "cell_type": "markdown",
   "metadata": {},
   "source": [
    "This lab guide assumes two things:\n",
    "\n",
    "1. a (very) basic familiarity with Python and the command line, but no more than that.\n",
    "2. that you have installed the [Anaconda distribution](http://docs.continuum.io/anaconda/ \"Anaconda Python\")\n",
    "  of Python for your computer. The dependencies for Python's scientific computing stack are complicated and this is the easiest option to get up-and-running."
   ]
  },
  {
   "cell_type": "markdown",
   "metadata": {},
   "source": [
    "<div class=\"heading\">\n",
    "<h2>Installing Pandas and IPython in a virtual environment</h2>\n",
    "</div>"
   ]
  },
  {
   "cell_type": "markdown",
   "metadata": {},
   "source": [
    "To make sure that this lab guide works on your computer, and to allow you to keep modules in one Python project separate from those in another, we will create a 'virtual environment' using Anaconda. This creates a safe laboratory space in which you can install whatever packages you find useful for statistical analysis, without worrying that these will break something elsewhere.\n",
    "\n",
    "Open a command prompt or terminal and create a virtual environment called `openintrolabs` by using this command:\n",
    "\n",
    "```\n",
    "conda create -n openintrolabs python=3.4\n",
    "```\n",
    "\n",
    "This has created a fresh Python 3 installation for us - and because it is enclosed in a virtual environment, this won't affect any existing Python 2 projects you may have. \n",
    "\n",
    "Now enter this environment by using the following command if you are using Windows:\n",
    "\n",
    "```\n",
    "activate openintrolabs\n",
    "```\n",
    "\n",
    "Or, if you are using a Linux distribution:\n",
    "\n",
    "```\n",
    "source activate openintrolabs\n",
    "```\n",
    "\n",
    "When a virtual environment is activated, its name prepended to your terminal prompt. Like this in Windows:\n",
    "\n",
    "<img src=\"images/windows-env.png\"/>\n",
    "\n",
    "Or like this in Linux:\n",
    "\n",
    "<img src=\"images/linux-env.png\"/>\n",
    "\n",
    "You can exit a virtual environment by using the command `deactivate`. You can try that now but, afterwards, reactivate the openintrolabs environment with `activate openintrolabs` (or `source activate openintrolabs` on Linux) so that we can carry on with the Lab.\n",
    "\n",
    "Now let's install a few packages into our base Python environment:\n",
    "- Pandas, a data analysis toolkit.\n",
    "- Matplotlib, for plotting.\n",
    "- Statsmodels, for statistical function. \n",
    "- IPython, for creating interactive notebooks\n",
    "\n",
    "Make sure you are in your openintrolabs virtual environment and enter these commands:\n",
    "\n",
    "```\n",
    "conda install pandas\n",
    "conda install ipython-notebook\n",
    "conda install matplotlib\n",
    "conda install statsmodels\n",
    "```\n",
    "\n",
    "We should now have a working environment for data analysis. Let's get started!"
   ]
  },
  {
   "cell_type": "markdown",
   "metadata": {},
   "source": [
    "<div class=\"heading\">\n",
    "<h2>Getting started with Pandas and IPython</h2>\n",
    "</div>"
   ]
  },
  {
   "cell_type": "markdown",
   "metadata": {},
   "source": [
    "\n",
    "We'll conduct our data analysis in IPython 'notebooks'. As the name suggests, you can *write* in IPython notebooks, but you can also use them to execute Python code and display visualizations or other graphics. They are a powerful tool for data exploration and statistical analysis.\n",
    "\n",
    "Start the notebook server by, first, navigating to a convenient working folder on the command line and then executing the following command in your virtual environment. (After doing so, you will need to keep the terminal running as you work.)\n",
    "\n",
    "```\n",
    "ipython notebook\n",
    "```\n",
    "\n",
    "After a few seconds, your browser should open a new tab like this:\n",
    "\n",
    "\n",
    "<img src=\"images/ipython_server.png\"/>\n",
    "\n",
    "Create a notebook by clicking 'new' in the top right-hand corner and then selecting 'Python 3' under 'Notebooks'. This will open a new tab which contains a notebook, ready for us to work in.\n",
    "\n",
    "<img src=\"images/ipython_0.png\"/>\n",
    "\n",
    "At the top of the screen 'Untitled' is the name of our notebook. We can change this by clicking on it.\n",
    "\n",
    "The white rectange labelled `In [ ]:` is a cell. A cell is where we enter code or text.\n",
    "\n",
    "More cells can be added with the + button on the toolbar and cells can be rearranged with the up and down arrows.\n",
    "\n",
    "The cell input type (code or Markdown text) can be changed using the dropdown menu that is set to 'Code' by default.\n",
    "\n",
    "Click into the first cell, change the type to Markdown and enter the following text:\n"
   ]
  },
  {
   "cell_type": "code",
   "execution_count": null,
   "metadata": {
    "collapsed": true
   },
   "outputs": [],
   "source": [
    "# Getting started with Pandas and IPython"
   ]
  },
  {
   "cell_type": "markdown",
   "metadata": {},
   "source": [
    "Press **shift and enter** to run this cell. The `#` is Markdown code for a large heading and so IPython renders this text as a nice big title for our notebook.\n",
    "\n",
    "Now let's run some Python code and get started with data analysis.\n",
    "\n",
    "Input these lines into the first cell after your heading and run the cell:"
   ]
  },
  {
   "cell_type": "code",
   "execution_count": 3,
   "metadata": {
    "collapsed": true
   },
   "outputs": [],
   "source": [
    "import pandas as pd\n",
    "%matplotlib inline"
   ]
  },
  {
   "cell_type": "markdown",
   "metadata": {},
   "source": [
    "These lines import pandas, the data analysis library and, by convention, rename it to pd. Now when we call pandas functions, we will call pd. It saves us four whole keystrokes.\n",
    "\n",
    "The second line tells IPython to draw graphs in the notebook itself rather than creating separate windows each time.\n"
   ]
  },
  {
   "cell_type": "markdown",
   "metadata": {},
   "source": [
    "<div class=\"heading\">\n",
    "<h2>Reading data into Pandas</h2>\n",
    "</div>"
   ]
  },
  {
   "cell_type": "markdown",
   "metadata": {},
   "source": [
    "We can now start working with data. In a new cell enter and execute the following code:"
   ]
  },
  {
   "cell_type": "code",
   "execution_count": 4,
   "metadata": {
    "collapsed": false
   },
   "outputs": [
    {
     "data": {
      "text/html": [
       "<div style=\"max-height:1000px;max-width:1500px;overflow:auto;\">\n",
       "<table border=\"1\" class=\"dataframe\">\n",
       "  <thead>\n",
       "    <tr style=\"text-align: right;\">\n",
       "      <th></th>\n",
       "      <th>year</th>\n",
       "      <th>boys</th>\n",
       "      <th>girls</th>\n",
       "    </tr>\n",
       "  </thead>\n",
       "  <tbody>\n",
       "    <tr>\n",
       "      <th>0</th>\n",
       "      <td> 1940</td>\n",
       "      <td> 1211684</td>\n",
       "      <td> 1148715</td>\n",
       "    </tr>\n",
       "    <tr>\n",
       "      <th>1</th>\n",
       "      <td> 1941</td>\n",
       "      <td> 1289734</td>\n",
       "      <td> 1223693</td>\n",
       "    </tr>\n",
       "    <tr>\n",
       "      <th>2</th>\n",
       "      <td> 1942</td>\n",
       "      <td> 1444365</td>\n",
       "      <td> 1364631</td>\n",
       "    </tr>\n",
       "    <tr>\n",
       "      <th>3</th>\n",
       "      <td> 1943</td>\n",
       "      <td> 1508959</td>\n",
       "      <td> 1427901</td>\n",
       "    </tr>\n",
       "    <tr>\n",
       "      <th>4</th>\n",
       "      <td> 1944</td>\n",
       "      <td> 1435301</td>\n",
       "      <td> 1359499</td>\n",
       "    </tr>\n",
       "  </tbody>\n",
       "</table>\n",
       "</div>"
      ],
      "text/plain": [
       "   year     boys    girls\n",
       "0  1940  1211684  1148715\n",
       "1  1941  1289734  1223693\n",
       "2  1942  1444365  1364631\n",
       "3  1943  1508959  1427901\n",
       "4  1944  1435301  1359499"
      ]
     },
     "execution_count": 4,
     "metadata": {},
     "output_type": "execute_result"
    }
   ],
   "source": [
    "present_url = 'https://github.com/ScatteredInk/OpenIntro-Python-Labs/raw/master/Lab0/present.csv'\n",
    "\n",
    "present = pd.read_csv(present_url)\n",
    "\n",
    "present.head()"
   ]
  },
  {
   "cell_type": "markdown",
   "metadata": {},
   "source": [
    "This code may take a few seconds to execute as it is instructing Pandas to open a CSV file located on the internet and store this in the variable `present`. When the file has downloaded, the `head()` function instructs Pandas to display the first few rows of the data. "
   ]
  },
  {
   "cell_type": "markdown",
   "metadata": {
    "collapsed": true
   },
   "source": [
    " <div class=\"heading\">\n",
    "<h2> Present Data</h2>\n",
    "</div>"
   ]
  },
  {
   "cell_type": "markdown",
   "metadata": {},
   "source": [
    "The present data set refers to the number of male and female births in the United States. The data set contains the data for all years from 1940 to 2002. We can take a look at the data by typing the variable name into a cell and executing."
   ]
  },
  {
   "cell_type": "code",
   "execution_count": null,
   "metadata": {
    "collapsed": true
   },
   "outputs": [],
   "source": [
    "present"
   ]
  },
  {
   "cell_type": "markdown",
   "metadata": {},
   "source": [
    "What you should see are four columns of numbers, each row representing a different year: the first entry in each row is simply the row number (an index we can use to access the data from individual years if we want), the second is the year, and the third and fourth are the numbers of boys and girls born that year, respectively. Use the scrollbar on the right side of the console window to examine the head and tail of this data set. A row of ellipses represents the middle of this data, removed from this summary view.\n",
    "\n",
    "Note that the row numbers in the first column are not part of the present data set. Pandas adds them as part of its data model. You can think of them as the index that you see on the left side of a spreadsheet. In fact, the comparison to a spreadsheet will generally be helpful. Pandas has stored the data in a kind of spreadsheet or table called a **DataFrame**.\n",
    "\n",
    "You can see the dimensions of this DataFrame by typing:"
   ]
  },
  {
   "cell_type": "code",
   "execution_count": 10,
   "metadata": {
    "collapsed": false
   },
   "outputs": [
    {
     "data": {
      "text/plain": [
       "(63, 3)"
      ]
     },
     "execution_count": 10,
     "metadata": {},
     "output_type": "execute_result"
    }
   ],
   "source": [
    "present.shape"
   ]
  },
  {
   "cell_type": "markdown",
   "metadata": {},
   "source": [
    "The output (63, 3) indicates that there are 63 rows and 3 columns. You can see the names of these columns by typing:"
   ]
  },
  {
   "cell_type": "code",
   "execution_count": 15,
   "metadata": {
    "collapsed": false
   },
   "outputs": [
    {
     "data": {
      "text/plain": [
       "['year', 'boys', 'girls']"
      ]
     },
     "execution_count": 15,
     "metadata": {},
     "output_type": "execute_result"
    }
   ],
   "source": [
    "present.columns.tolist()"
   ]
  },
  {
   "cell_type": "markdown",
   "metadata": {},
   "source": [
    "<div class=\"question\">\n",
    "<div><h3 class = \"question-title\">Question 1</h3></div>\n",
    "<div>How many variables are included in this data set?: </div>\n",
    "<ul class=\"questions\">\n",
    "<li>A) 2</li> \n",
    "<li>B) 3</li> \n",
    "<li>C) 4</li> \n",
    "<li>D) 63</li> \n",
    "<li>E) 2002</li>\n",
    "</ul>\n",
    "</div>"
   ]
  },
  {
   "cell_type": "markdown",
   "metadata": {},
   "source": [
    "<div class=\"heading\">\n",
    "<h2>Some Exploration</h2>\n",
    "</div>\n"
   ]
  },
  {
   "cell_type": "markdown",
   "metadata": {},
   "source": [
    "Let’s start to examine the data a little more closely. We can access the data in a single column of a data frame separately using a command like"
   ]
  },
  {
   "cell_type": "markdown",
   "metadata": {},
   "source": [
    "This command will only show the number of boys born each year."
   ]
  },
  {
   "cell_type": "code",
   "execution_count": 40,
   "metadata": {
    "collapsed": false
   },
   "outputs": [
    {
     "data": {
      "text/plain": [
       "0     1211684\n",
       "1     1289734\n",
       "2     1444365\n",
       "3     1508959\n",
       "4     1435301\n",
       "5     1404587\n",
       "6     1691220\n",
       "7     1899876\n",
       "8     1813852\n",
       "9     1826352\n",
       "10    1823555\n",
       "11    1923020\n",
       "12    1971262\n",
       "13    2001798\n",
       "14    2059068\n",
       "...\n",
       "48    2002424\n",
       "49    2069490\n",
       "50    2129495\n",
       "51    2101518\n",
       "52    2082097\n",
       "53    2048861\n",
       "54    2022589\n",
       "55    1996355\n",
       "56    1990480\n",
       "57    1985596\n",
       "58    2016205\n",
       "59    2026854\n",
       "60    2076969\n",
       "61    2057922\n",
       "62    2057979\n",
       "Name: boys, Length: 63, dtype: int64"
      ]
     },
     "execution_count": 40,
     "metadata": {},
     "output_type": "execute_result"
    }
   ],
   "source": [
    "present['boys']"
   ]
  },
  {
   "cell_type": "markdown",
   "metadata": {},
   "source": [
    "<div class=\"question\">\n",
    "\n",
    "<div><h3 class=\"question-title\">Question 2</h3></div>\n",
    "<div>What command would you use to extract just the counts of girls births?</div>\n",
    "\n",
    "<ul class = questions>\n",
    "<li>A) `present['girls']`</li>\n",
    "<li>B) `present['boys']`</li> \n",
    "<li>C) `girls`</li> \n",
    "<li>D) `present[girls]`</li> \n",
    "<li>E) `'girls'`</li>\n",
    "</ul>\n",
    "</div>"
   ]
  },
  {
   "cell_type": "markdown",
   "metadata": {},
   "source": [
    "Notice that the way Pandas has printed these data is different. When we looked at the the DataFrame, we saw the rows of a table, one on each line of the display, with their headings. These data are no longer structured in a table with other variables, so they are displayed as a single object called a Series. Its name ('boys') and datatype ('int64') are displayed at the bottom. Pandas prints numbers on the left, the index, to indicate locations of data within the the series. For example, 1211684 follows 0, indicating that 1211684 is at index entry 1 in the series (as elsewhere in Python, Pandas indexing begins at zero). And if 48 starts a line, then that would mean the first number on that line would represent the 48th entry in the series.\n",
    "\n",
    "We can see that present and the columns of present are different data types by inputting the following commands:"
   ]
  },
  {
   "cell_type": "code",
   "execution_count": 44,
   "metadata": {
    "collapsed": false
   },
   "outputs": [
    {
     "data": {
      "text/plain": [
       "pandas.core.frame.DataFrame"
      ]
     },
     "execution_count": 44,
     "metadata": {},
     "output_type": "execute_result"
    }
   ],
   "source": [
    "type(present)"
   ]
  },
  {
   "cell_type": "code",
   "execution_count": 43,
   "metadata": {
    "collapsed": false
   },
   "outputs": [
    {
     "data": {
      "text/plain": [
       "pandas.core.series.Series"
      ]
     },
     "execution_count": 43,
     "metadata": {},
     "output_type": "execute_result"
    }
   ],
   "source": [
    "type(present['boys'])"
   ]
  },
  {
   "cell_type": "markdown",
   "metadata": {},
   "source": [
    " <div class=\"heading\">\n",
    "<h2> Visualizing data</h2>\n",
    "</div>\n",
    "  "
   ]
  },
  {
   "cell_type": "markdown",
   "metadata": {},
   "source": [
    "Pandas has some powerful functions for making graphics. To make these easier to use, we will set the **index** of our DataFrame to the 'year' column of our dataset. This is makes more sense than the arbitrary 0 to 62 numbering that we had before. "
   ]
  },
  {
   "cell_type": "code",
   "execution_count": null,
   "metadata": {
    "collapsed": true
   },
   "outputs": [],
   "source": [
    "present.set_index('year', inplace=True)"
   ]
  },
  {
   "cell_type": "markdown",
   "metadata": {},
   "source": [
    "Have a look at the `present` DataFrame with the following commands."
   ]
  },
  {
   "cell_type": "code",
   "execution_count": 53,
   "metadata": {
    "collapsed": false
   },
   "outputs": [
    {
     "data": {
      "text/html": [
       "<div style=\"max-height:1000px;max-width:1500px;overflow:auto;\">\n",
       "<table border=\"1\" class=\"dataframe\">\n",
       "  <thead>\n",
       "    <tr style=\"text-align: right;\">\n",
       "      <th></th>\n",
       "      <th>boys</th>\n",
       "      <th>girls</th>\n",
       "    </tr>\n",
       "    <tr>\n",
       "      <th>year</th>\n",
       "      <th></th>\n",
       "      <th></th>\n",
       "    </tr>\n",
       "  </thead>\n",
       "  <tbody>\n",
       "    <tr>\n",
       "      <th>1940</th>\n",
       "      <td> 1211684</td>\n",
       "      <td> 1148715</td>\n",
       "    </tr>\n",
       "    <tr>\n",
       "      <th>1941</th>\n",
       "      <td> 1289734</td>\n",
       "      <td> 1223693</td>\n",
       "    </tr>\n",
       "    <tr>\n",
       "      <th>1942</th>\n",
       "      <td> 1444365</td>\n",
       "      <td> 1364631</td>\n",
       "    </tr>\n",
       "    <tr>\n",
       "      <th>1943</th>\n",
       "      <td> 1508959</td>\n",
       "      <td> 1427901</td>\n",
       "    </tr>\n",
       "    <tr>\n",
       "      <th>1944</th>\n",
       "      <td> 1435301</td>\n",
       "      <td> 1359499</td>\n",
       "    </tr>\n",
       "  </tbody>\n",
       "</table>\n",
       "</div>"
      ],
      "text/plain": [
       "         boys    girls\n",
       "year                  \n",
       "1940  1211684  1148715\n",
       "1941  1289734  1223693\n",
       "1942  1444365  1364631\n",
       "1943  1508959  1427901\n",
       "1944  1435301  1359499"
      ]
     },
     "execution_count": 53,
     "metadata": {},
     "output_type": "execute_result"
    }
   ],
   "source": [
    "present.head()"
   ]
  },
  {
   "cell_type": "code",
   "execution_count": 54,
   "metadata": {
    "collapsed": false
   },
   "outputs": [
    {
     "data": {
      "text/html": [
       "<div style=\"max-height:1000px;max-width:1500px;overflow:auto;\">\n",
       "<table border=\"1\" class=\"dataframe\">\n",
       "  <thead>\n",
       "    <tr style=\"text-align: right;\">\n",
       "      <th></th>\n",
       "      <th>boys</th>\n",
       "      <th>girls</th>\n",
       "    </tr>\n",
       "    <tr>\n",
       "      <th>year</th>\n",
       "      <th></th>\n",
       "      <th></th>\n",
       "    </tr>\n",
       "  </thead>\n",
       "  <tbody>\n",
       "    <tr>\n",
       "      <th>1998</th>\n",
       "      <td> 2016205</td>\n",
       "      <td> 1925348</td>\n",
       "    </tr>\n",
       "    <tr>\n",
       "      <th>1999</th>\n",
       "      <td> 2026854</td>\n",
       "      <td> 1932563</td>\n",
       "    </tr>\n",
       "    <tr>\n",
       "      <th>2000</th>\n",
       "      <td> 2076969</td>\n",
       "      <td> 1981845</td>\n",
       "    </tr>\n",
       "    <tr>\n",
       "      <th>2001</th>\n",
       "      <td> 2057922</td>\n",
       "      <td> 1968011</td>\n",
       "    </tr>\n",
       "    <tr>\n",
       "      <th>2002</th>\n",
       "      <td> 2057979</td>\n",
       "      <td> 1963747</td>\n",
       "    </tr>\n",
       "  </tbody>\n",
       "</table>\n",
       "</div>"
      ],
      "text/plain": [
       "         boys    girls\n",
       "year                  \n",
       "1998  2016205  1925348\n",
       "1999  2026854  1932563\n",
       "2000  2076969  1981845\n",
       "2001  2057922  1968011\n",
       "2002  2057979  1963747"
      ]
     },
     "execution_count": 54,
     "metadata": {},
     "output_type": "execute_result"
    }
   ],
   "source": [
    "present.tail()"
   ]
  },
  {
   "cell_type": "markdown",
   "metadata": {},
   "source": [
    "Our index is now the years 1940 through 2002. The same index is also applied to the individual Series that make up the DataFrame."
   ]
  },
  {
   "cell_type": "code",
   "execution_count": 56,
   "metadata": {
    "collapsed": false
   },
   "outputs": [
    {
     "data": {
      "text/plain": [
       "year\n",
       "1940    1211684\n",
       "1941    1289734\n",
       "1942    1444365\n",
       "1943    1508959\n",
       "1944    1435301\n",
       "Name: boys, dtype: int64"
      ]
     },
     "execution_count": 56,
     "metadata": {},
     "output_type": "execute_result"
    }
   ],
   "source": [
    "present['boys'].head()"
   ]
  },
  {
   "cell_type": "markdown",
   "metadata": {},
   "source": [
    "We can plot the number of girls born per year with the following command."
   ]
  },
  {
   "cell_type": "code",
   "execution_count": 66,
   "metadata": {
    "collapsed": false
   },
   "outputs": [
    {
     "data": {
      "text/plain": [
       "<matplotlib.axes._subplots.AxesSubplot at 0x7fa29b54cb00>"
      ]
     },
     "execution_count": 66,
     "metadata": {},
     "output_type": "execute_result"
    },
    {
     "data": {
      "image/png": "[encoded data removed]",
      "text/plain": [
       "<matplotlib.figure.Figure at 0x7fa29b507080>"
      ]
     },
     "metadata": {},
     "output_type": "display_data"
    }
   ],
   "source": [
    "present['girls'].plot()"
   ]
  },
  {
   "cell_type": "markdown",
   "metadata": {},
   "source": [
    "To add a legend to this plot, the command is `present['girls'].plot(legend=True)`. You might wonder how you are supposed to know that it was possible to add that argument. Thankfully, the Pandas documention is available online and can also be accessed from within IPython. To read what a function does and learn the arguments that are available to you, just type in a question mark before or after the name of the function that you’re interested in: `pd.DataFrame.plot?`."
   ]
  },
  {
   "cell_type": "markdown",
   "metadata": {},
   "source": [
    "<div class=\"question\">\n",
    "<div><h3 class=\"question-title\">Question 3</h3></div>\n",
    "<div>Is there an apparent trend in the number of girls born over the years? How would you describe it?</div>\n",
    "<ul class=\"questions\">\n",
    "<li>A) There appears to be no trend in the number of girls born from 1940 to 2002.</li>\n",
    "<li>B) There is initially an increase in the number of girls born, which peaks around 1960. After 1960 there is a decrease in the number of girls born, but the number begins to increase again in the early 1970s. Overall the trend is an increase in the number of girls born in the US since the 1940s.</li>\n",
    "<li>C) There is initially an increase in the number of girls born. This number peaks around 1960 and then after 1960 the number of girls born decreases.</li>\n",
    "<li>D) The number of girls born has decreased over time.</li>\n",
    "<li>E) There is an initial increase in the number of girls born but this number appears to level around 1960 and not change since then.</li>\n",
    "</ul>\n",
    "</div>"
   ]
  },
  {
   "cell_type": "markdown",
   "metadata": {},
   "source": [
    "Now, suppose we want to plot the total number of births. To compute this, we could use the fact that IPython is really just a big calculator. We can type in mathematical expressions like"
   ]
  },
  {
   "cell_type": "code",
   "execution_count": 67,
   "metadata": {
    "collapsed": false
   },
   "outputs": [
    {
     "data": {
      "text/plain": [
       "2360399"
      ]
     },
     "execution_count": 67,
     "metadata": {},
     "output_type": "execute_result"
    }
   ],
   "source": [
    "1211684 + 1148715"
   ]
  },
  {
   "cell_type": "markdown",
   "metadata": {},
   "source": [
    "What you will see is a Series of length 63 (not all of which will be printed), each one representing the sum we’re after. Take a look at a few of them and verify that they are right. Therefore, we can make a plot by assigning this sum to its own variable and of the total number of births per year with the following command:"
   ]
  },
  {
   "cell_type": "code",
   "execution_count": 80,
   "metadata": {
    "collapsed": false
   },
   "outputs": [
    {
     "data": {
      "text/plain": [
       "<matplotlib.axes._subplots.AxesSubplot at 0x7fa29b219160>"
      ]
     },
     "execution_count": 80,
     "metadata": {},
     "output_type": "execute_result"
    },
    {
     "data": {
      "image/png": "[encoded data removed]",
      "text/plain": [
       "<matplotlib.figure.Figure at 0x7fa29b21f470>"
      ]
     },
     "metadata": {},
     "output_type": "display_data"
    }
   ],
   "source": [
    "combined_births = present['boys'] + present['girls']\n",
    "combined_births.plot()\n"
   ]
  },
  {
   "cell_type": "markdown",
   "metadata": {},
   "source": [
    "In the above expression we create a new Series object, assign it to `combined_births` and then call the plot function for Series objects."
   ]
  },
  {
   "cell_type": "markdown",
   "metadata": {},
   "source": [
    "<div class=\"heading\">\n",
    "<h2>Finding minima and maxima</h2>\n",
    "</div>\n"
   ]
  },
  {
   "cell_type": "markdown",
   "metadata": {},
   "source": [
    "We can see a summary of our DataFrame, including the minimum and maximum values in each column, with the describe() function."
   ]
  },
  {
   "cell_type": "code",
   "execution_count": 83,
   "metadata": {
    "collapsed": false
   },
   "outputs": [
    {
     "data": {
      "text/html": [
       "<div style=\"max-height:1000px;max-width:1500px;overflow:auto;\">\n",
       "<table border=\"1\" class=\"dataframe\">\n",
       "  <thead>\n",
       "    <tr style=\"text-align: right;\">\n",
       "      <th></th>\n",
       "      <th>boys</th>\n",
       "      <th>girls</th>\n",
       "    </tr>\n",
       "  </thead>\n",
       "  <tbody>\n",
       "    <tr>\n",
       "      <th>count</th>\n",
       "      <td>      63.000000</td>\n",
       "      <td>      63.000000</td>\n",
       "    </tr>\n",
       "    <tr>\n",
       "      <th>mean</th>\n",
       "      <td> 1885599.619048</td>\n",
       "      <td> 1793915.015873</td>\n",
       "    </tr>\n",
       "    <tr>\n",
       "      <th>std</th>\n",
       "      <td>  226511.422927</td>\n",
       "      <td>  218559.840911</td>\n",
       "    </tr>\n",
       "    <tr>\n",
       "      <th>min</th>\n",
       "      <td> 1211684.000000</td>\n",
       "      <td> 1148715.000000</td>\n",
       "    </tr>\n",
       "    <tr>\n",
       "      <th>25%</th>\n",
       "      <td> 1799857.000000</td>\n",
       "      <td> 1711404.500000</td>\n",
       "    </tr>\n",
       "    <tr>\n",
       "      <th>50%</th>\n",
       "      <td> 1924868.000000</td>\n",
       "      <td> 1831679.000000</td>\n",
       "    </tr>\n",
       "    <tr>\n",
       "      <th>75%</th>\n",
       "      <td> 2058523.500000</td>\n",
       "      <td> 1965537.500000</td>\n",
       "    </tr>\n",
       "    <tr>\n",
       "      <th>max</th>\n",
       "      <td> 2186274.000000</td>\n",
       "      <td> 2082052.000000</td>\n",
       "    </tr>\n",
       "  </tbody>\n",
       "</table>\n",
       "</div>"
      ],
      "text/plain": [
       "                 boys           girls\n",
       "count       63.000000       63.000000\n",
       "mean   1885599.619048  1793915.015873\n",
       "std     226511.422927   218559.840911\n",
       "min    1211684.000000  1148715.000000\n",
       "25%    1799857.000000  1711404.500000\n",
       "50%    1924868.000000  1831679.000000\n",
       "75%    2058523.500000  1965537.500000\n",
       "max    2186274.000000  2082052.000000"
      ]
     },
     "execution_count": 83,
     "metadata": {},
     "output_type": "execute_result"
    }
   ],
   "source": [
    "present.describe()"
   ]
  },
  {
   "cell_type": "markdown",
   "metadata": {},
   "source": [
    "But how do we *when* these minimum or maximum values occured? To do this we can use the idxmin() and idxmax() functions, which give us the index values at the min or max. The code to find the year when the most number of girls were born is: "
   ]
  },
  {
   "cell_type": "code",
   "execution_count": 86,
   "metadata": {
    "collapsed": false
   },
   "outputs": [
    {
     "data": {
      "text/plain": [
       "1961"
      ]
     },
     "execution_count": 86,
     "metadata": {},
     "output_type": "execute_result"
    }
   ],
   "source": [
    "present['girls'].idxmax()"
   ]
  },
  {
   "cell_type": "markdown",
   "metadata": {},
   "source": [
    "<div class=\"question\">\n",
    "<div><h3 class=\"question-title\">Question 4</h3></div>\n",
    "<div>In what year did we see the most total number of births in the U.S.? Use the `combined_births` variable we have already created and the functions just introduced to answer this question.</div>\n",
    "<ul class=\"questions\">\n",
    "<li>A) 1961</li> \n",
    "<li>B) 1960</li> \n",
    "<li>C) 1957</li> \n",
    "<li>D) 1991</li>\n",
    "</ul>\n",
    "</div>"
   ]
  },
  {
   "cell_type": "markdown",
   "metadata": {},
   "source": [
    "Similarly to how we computed the proportion of boys, we can compute the ratio of the number of boys to the number of girls born in 1940 with:"
   ]
  },
  {
   "cell_type": "code",
   "execution_count": 92,
   "metadata": {
    "collapsed": false
   },
   "outputs": [
    {
     "data": {
      "text/plain": [
       "1.0548169041058921"
      ]
     },
     "execution_count": 92,
     "metadata": {},
     "output_type": "execute_result"
    }
   ],
   "source": [
    "1211684/1148715"
   ]
  },
  {
   "cell_type": "code",
   "execution_count": null,
   "metadata": {
    "collapsed": true
   },
   "outputs": [],
   "source": [
    "present['boys'] / present['girls']"
   ]
  },
  {
   "cell_type": "markdown",
   "metadata": {},
   "source": [
    "The proportion of newborns that were boys in 1940 can be calculated with:"
   ]
  },
  {
   "cell_type": "code",
   "execution_count": 93,
   "metadata": {
    "collapsed": false
   },
   "outputs": [
    {
     "data": {
      "text/plain": [
       "0.5133386346969305"
      ]
     },
     "execution_count": 93,
     "metadata": {},
     "output_type": "execute_result"
    }
   ],
   "source": [
    "1211684 / (1211684 + 1148715)"
   ]
  },
  {
   "cell_type": "markdown",
   "metadata": {},
   "source": [
    "Or this may also be calculated for all years simultaneously:"
   ]
  },
  {
   "cell_type": "code",
   "execution_count": null,
   "metadata": {
    "collapsed": false
   },
   "outputs": [],
   "source": [
    "present['boys'] / (present['boys'] + present['girls'])"
   ]
  },
  {
   "cell_type": "markdown",
   "metadata": {},
   "source": [
    "Note that with IPython, as with your calculator, you need to be conscious of the order of operations. Here, we want to divide the number of boys by the total number of newborns, so we have to use parentheses. Without them, Python will first do the division, then the addition, giving you something that is not a proportion."
   ]
  },
  {
   "cell_type": "markdown",
   "metadata": {},
   "source": [
    "<div class=\"question\">\n",
    "<div><h3 class=\"question-title\">Question 5</h3></div>\n",
    "<div>Now, create a new variable containing the proportion of boys over time, plot this Series, and based on the plot determine if the following statement is true or false: The proportion of boys born in the US has decreased over time.</div>\n",
    "<ul class=\"questions\">\n",
    "<li>True</li>\n",
    "<li>False</li>\n",
    "</ul>\n",
    "</div>"
   ]
  },
  {
   "cell_type": "markdown",
   "metadata": {},
   "source": [
    "Finally, in addition to simple mathematical operators like subtraction and division, you can ask Pandas to make comparisons like greater than, `>`, less than, `<`, and equality, `==`. For example, we can ask if boys outnumber girls in each year with the expression:"
   ]
  },
  {
   "cell_type": "code",
   "execution_count": null,
   "metadata": {
    "collapsed": false
   },
   "outputs": [],
   "source": [
    "present['boys'] > present['girls']"
   ]
  },
  {
   "cell_type": "markdown",
   "metadata": {},
   "source": [
    "This command returns a Series of 63 boolean values. The value is either True if that year had more boys than girls, or False if that year did not. This output shows a different kind of data than we have considered so far. In the DataFrame our values are numerical (the year, the number of boys and girls). Here, we’ve asked Pandas to create logical data, data where the values are either True or False. In general, data analysis will involve many different kinds of data types, and one reason for using Pandas is that it is able to represent and compute with many of them.\n",
    "\n",
    "One way of quickly analysing boolean data is with the value_counts function. This returns an object containing counts of unique values in a Series."
   ]
  },
  {
   "cell_type": "code",
   "execution_count": null,
   "metadata": {
    "collapsed": false
   },
   "outputs": [],
   "source": [
    "(present['boys'] > present['girls']).value_counts()"
   ]
  },
  {
   "cell_type": "markdown",
   "metadata": {},
   "source": [
    "<div class=\"question\">\n",
    "<div><h3 class=\"question-title\">Question 6</h3></div>\n",
    "<div>Which statesment is true?</div>\n",
    "<ul class=\"questions\">\n",
    "<li>A) Every year there are more girls born than boys.</li>\n",
    "<li>B) Every year there are more boys born than girls.</li>\n",
    "<li>C) Half of the years there are more boys born, and the other half more girls born.</li>\n",
    "</ul>\n",
    "</div>"
   ]
  },
  {
   "cell_type": "markdown",
   "metadata": {},
   "source": [
    "Now try to answer the following questions without additional guidance on the coding, based on what you have learned so far.\n",
    "\n"
   ]
  },
  {
   "cell_type": "markdown",
   "metadata": {},
   "source": [
    "<div class=\"question\">\n",
    "<div><h3 class=\"question-title\">Question 7</h3></div>\n",
    "<div>Make a plot that displays the boy-to-girl ratio for every year in the data set. What do you see? </div>\n",
    "<ul class=\"questions\">\n",
    "<li>A) There appears to be no trend in the boy-to-girl ratio from 1940 to 2002.</li>\n",
    "<li>B) There is initially an increase in boy-to-girl ratio, which peaks around 1960. After 1960 there is a decrease in the boy-to-girl ratio, but the number begins to increase in the mid 1970s.</li>\n",
    "<li>C) There is initially a decrease in the boy-to-girl ratio, and then an increase between 1960 and 1970, followed by a decrease.</li>\n",
    "<li>D) The boy-to-girl ratio has increased over time.</li>\n",
    "<li>E) There is an initial decrease in the boy-to-girl ratio born but this number appears to level around 1960 and remain constant since then.</li>\n",
    "</ul>\n",
    "</div>"
   ]
  },
  {
   "cell_type": "markdown",
   "metadata": {},
   "source": [
    "<div class=\"question\">\n",
    "<div><h3 class=\"question-title\">Question 8</h3></div>\n",
    "<div>Calculate absolute differences between number of boys and girls born in each year, and determine which year out of the present data had the biggest absolute difference in the number of girls and number of boys born?</div>\n",
    "<ul class=\"questions\">\n",
    "<li>A) 1963</li>\n",
    "<li>B) 1946</li>\n",
    "<li>C) 2002</li>\n",
    "<li>D) 1940</li>\n",
    "</ul>\n",
    "</div>"
   ]
  },
  {
   "cell_type": "markdown",
   "metadata": {},
   "source": [
    "These data come from a [report](http://www.cdc.gov/nchs/data/nvsr/nvsr53/nvsr53_20.pdf) by the Centers for Disease Control. Check it out if you would like to read more about an analysis of sex ratios at birth in the United States."
   ]
  },
  {
   "cell_type": "markdown",
   "metadata": {},
   "source": [
    "<div class=\"attribution\">\n",
    "This lab was adapted for Python Pandas by Jack Lord from the original  OpenIntro product. The source code is on [Github](https://github.com/ScatteredInk/OpenIntro-Python-Labs). It is released under a Creative Commons Attribution-ShareAlike 3.0 Unported license. The original lab was adapted for OpenIntro by Andrew Bray and Mine Çetinkaya-Rundel from a lab written by Mark Hansen of UCLA Statistics.\n",
    "</div>"
   ]
  },
  {
   "cell_type": "code",
   "execution_count": 104,
   "metadata": {
    "collapsed": false
   },
   "outputs": [
    {
     "data": {
      "text/html": [
       "<style>\n",
       "div.question {    \n",
       "    background-color: #DDECEF;\n",
       "    border-color: #0099CC;\n",
       "    border-left: 5px solid #0099CC;\n",
       "    padding: 0.5em;\n",
       "    \n",
       "        }\n",
       " </style>\n",
       "\n",
       "<style>\n",
       "h3.question-title {\n",
       "\tcolor: white;\n",
       "\tmargin-bottom: 0.5em;\n",
       "\tbackground-color: #0099CC;\n",
       "\n",
       "}\n",
       "</style>\n",
       "\n",
       "<style>\n",
       "ul.questions {\n",
       "\tlist-style-type: none;\n",
       "}\n",
       "</style>\n",
       "\n",
       "<style>\n",
       "div.attribution {\n",
       "\tbackground-color:#E8E8E8;\n",
       "\tpadding: 0.5em;\n",
       "\tborder-color: #565B5B;\n",
       "\tborder-left: 5px solid #565B5B;\n",
       "}\n",
       "</style>\n",
       "\n",
       "<style>\n",
       "div.heading {\n",
       "\tbackground-color: #eac7d5;\n",
       "\tpadding: 0.5em;\n",
       "\tborder-color: ##BC4676;\n",
       "\tborder-left: 5px solid #BC4676;\n",
       "}"
      ],
      "text/plain": [
       "<IPython.core.display.HTML object>"
      ]
     },
     "execution_count": 104,
     "metadata": {},
     "output_type": "execute_result"
    }
   ],
   "source": [
    "from IPython.core.display import HTML\n",
    "def css_styling():\n",
    "    styles = open(\"./styles/custom.css\", \"r\").read()\n",
    "    return HTML(styles)\n",
    "css_styling()"
   ]
  }
 ],
 "metadata": {
  "kernelspec": {
   "display_name": "Python 3",
   "language": "python",
   "name": "python3"
  },
  "language_info": {
   "codemirror_mode": {
    "name": "ipython",
    "version": 3
   },
   "file_extension": ".py",
   "mimetype": "text/x-python",
   "name": "python",
   "nbconvert_exporter": "python",
   "pygments_lexer": "ipython3",
   "version": "3.4.3"
  }
 },
 "nbformat": 4,
 "nbformat_minor": 0
}
