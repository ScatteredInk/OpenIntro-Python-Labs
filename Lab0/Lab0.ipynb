{
 "metadata": {
  "name": "",
  "signature": "sha256:abb5fcd36885815586c23e6aec6f47a9203491124444725f21006e41861bc0ca"
 },
 "nbformat": 3,
 "nbformat_minor": 0,
 "worksheets": [
  {
   "cells": [
    {
     "cell_type": "markdown",
     "metadata": {},
     "source": [
      "# Lab 0: Introduction to Pandas and IPython\n",
      "\n",
      "This lab guide assumes two things:\n",
      "\n",
      "1. a (very) basic familiarity with Python and the command line, but no more than that.\n",
      "2. that you have installed the [Anaconda distribution](http://docs.continuum.io/anaconda/ \"Anaconda Python\")\n",
      "  of Python for your computer. The dependencies for Python's scientific computing stack are complicated and this is the easiest option to get up-and-running.\n",
      " \n",
      "## Installing Pandas and IPython in a virtual environment\n",
      "\n",
      "To make sure that this lab guide works on your computer, and to allow you to keep modules in one Python project separate from those in another, we will create a 'virtual environment' using Anaconda. This creates a safe laboratory space in which you can install whatever packages you find useful for statistical analysis, without worrying that these will break something elsewhere.\n",
      "\n",
      "Open a command prompt or terminal and create a virtual environment called `openintrolabs` by using this command:\n",
      "\n",
      "```\n",
      "conda create -n openintrolabs python=3.4\n",
      "```\n",
      "\n",
      "This has created a fresh Python 3 installation for us - and because it is enclosed in a virtual environment, this won't affect any existing Python 2 projects you may have. \n",
      "\n",
      "Now enter this environment by using the following command if you are using Windows:\n",
      "\n",
      "```\n",
      "activate openintrolabs\n",
      "```\n",
      "\n",
      "Or, if you are using a Linux distribution:\n",
      "\n",
      "```\n",
      "source activate openintrolabs\n",
      "```\n",
      "\n",
      "Now let's install Pandas, a data analysis tool, and iPython, a tool for creating interactive notebooks that is incredibly useful for exploring data.\n",
      "\n",
      "Make sure you are in your openintrolabs virtual environment and enter these commands:\n",
      "\n",
      "```\n",
      "conda install pandas\n",
      "conda install ipython-notebook\n",
      "```\n",
      "\n",
      "We should now have a working environment for data analysis. Let's get started!\n",
      "\n",
      "## Getting started with Pandas and IPython\n",
      "\n",
      "We'll conduct our data analysis in IPython 'notebooks'. As the name suggests, you can *write* in IPython notebooks, but you can also use them to execute Python code and display visualizations or other graphics. They are a powerful tool for data exploration and statistical analysis.\n",
      "\n",
      "Start the notebook server by, first, navigating to a convenient working folder on the command line and then executing this command in your virtual environment. After executing this command, you will need to keep the terminal running as you work.\n",
      "\n",
      "```\n",
      "ipython notebook\n",
      "```\n",
      "\n",
      "After a few seconds, your browser should open a new tab like this:\n",
      "\n",
      "\n",
      "\n"
     ]
    },
    {
     "cell_type": "code",
     "collapsed": false,
     "input": [],
     "language": "python",
     "metadata": {},
     "outputs": []
    }
   ],
   "metadata": {}
  }
 ]
}