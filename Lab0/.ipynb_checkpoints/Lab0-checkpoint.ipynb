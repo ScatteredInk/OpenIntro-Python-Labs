{
 "metadata": {
  "name": "",
  "signature": "sha256:fc1cf15eda7bd40ae8fd9aeed58fd487023822eb19a2c13332c0d34e80f0a0df"
 },
 "nbformat": 3,
 "nbformat_minor": 0,
 "worksheets": []
}